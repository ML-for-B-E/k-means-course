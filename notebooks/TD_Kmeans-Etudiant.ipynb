{
 "cells": [
  {
   "cell_type": "code",
   "execution_count": null,
   "id": "9ed163a6",
   "metadata": {},
   "outputs": [],
   "source": [
    "from pathlib import Path\n",
    "import numpy as np \n",
    "import pandas as pd \n",
    "import os\n",
    "import matplotlib.pyplot as plt\n",
    "import seaborn as sns\n",
    "from sklearn.cluster import KMeans\n",
    "\n",
    "from cloud_io.gcp.io import download_file\n",
    "from kmeans.tools.common_path import DATA_PATH, BUCKET_NAME, ROOT_PATH"
   ]
  },
  {
   "cell_type": "code",
   "execution_count": null,
   "id": "6046197b",
   "metadata": {},
   "outputs": [],
   "source": [
    "FIGSIZE = (15, 5)"
   ]
  },
  {
   "cell_type": "markdown",
   "id": "14f68a22",
   "metadata": {},
   "source": [
    "# Collecte de données"
   ]
  },
  {
   "cell_type": "markdown",
   "id": "26381c71",
   "metadata": {},
   "source": [
    "Le TD est basé sur le notebook Kaggle https://www.kaggle.com/code/shrutimechlearn/step-by-step-kmeans-explained-in-detail/notebook"
   ]
  },
  {
   "cell_type": "code",
   "execution_count": null,
   "id": "90137429",
   "metadata": {},
   "outputs": [],
   "source": [
    "download_path = Path(DATA_PATH, \"Mall_Customers.csv\") \n",
    "path_data = download_file(download_path, bucket_as_local=ROOT_PATH, bucket_name=BUCKET_NAME)"
   ]
  },
  {
   "cell_type": "code",
   "execution_count": null,
   "id": "2a616b7b",
   "metadata": {},
   "outputs": [],
   "source": [
    "df = pd.read_csv(path_data,index_col='CustomerID')\n",
    "df.head()"
   ]
  },
  {
   "cell_type": "markdown",
   "id": "1891449b",
   "metadata": {},
   "source": [
    "## Compréhension des variables"
   ]
  },
  {
   "cell_type": "markdown",
   "id": "25f9a070",
   "metadata": {},
   "source": [
    "La base de donnée provient d'un centre commercial (ou magasin) qui recense ses clients:\n",
    "\n",
    "* CustomerID: ID du client\n",
    "* Genre: Homme (Male) et Femme (Female)\n",
    "* Age: âge du client\n",
    "* Annual_Income_(k$): Revenu annuel en millier de dollars du client\n",
    "* Spending_Score: variable (entre 1-100) synthétisant le comportement du client, plus il dépense fréquemment plus le score sera élevé."
   ]
  },
  {
   "cell_type": "code",
   "execution_count": null,
   "id": "ecc78fa4",
   "metadata": {},
   "outputs": [],
   "source": [
    " # description des variables numériques"
   ]
  },
  {
   "cell_type": "markdown",
   "id": "dba2b4f3",
   "metadata": {},
   "source": [
    "# Problème à résoudre "
   ]
  },
  {
   "cell_type": "markdown",
   "id": "1d91cd5b",
   "metadata": {},
   "source": [
    "Comment varie le score de dépense (Spending_Score) avec le revenu annuel (Annual_Income)?"
   ]
  },
  {
   "cell_type": "code",
   "execution_count": null,
   "id": "35cffaf3",
   "metadata": {},
   "outputs": [],
   "source": [
    "df"
   ]
  },
  {
   "cell_type": "code",
   "execution_count": null,
   "id": "400ac8f3",
   "metadata": {},
   "outputs": [],
   "source": [
    "# scatterplot y= 'Spending_Score' et x = 'Annual_Income_(k$)' avec des couleurs différente par genre\n"
   ]
  },
  {
   "cell_type": "markdown",
   "id": "48950a9b",
   "metadata": {},
   "source": [
    "# Implémentation de l'algorithme"
   ]
  },
  {
   "cell_type": "markdown",
   "id": "e93d4194",
   "metadata": {},
   "source": [
    "## Quel devrait être le nombre de cluster?"
   ]
  },
  {
   "cell_type": "code",
   "execution_count": null,
   "id": "b0f96a54",
   "metadata": {},
   "outputs": [],
   "source": [
    "X = df[['Annual_Income_(k$)','Spending_Score']].copy()"
   ]
  },
  {
   "cell_type": "code",
   "execution_count": null,
   "id": "bd6107ea",
   "metadata": {},
   "outputs": [],
   "source": [
    "# Using the elbow method to find the optimal number of clusters\n",
    "wcss = []\n",
    "for i in range(1, 11):\n",
    "    modele_kmeans = KMeans(n_clusters = i, init = 'k-means++', random_state = 42)\n",
    "    modele_kmeans.fit(X)\n",
    "    # inertia method returns wcss for that model\n",
    "    wcss.append(modele_kmeans.inertia_)"
   ]
  },
  {
   "cell_type": "markdown",
   "id": "d30a9d23",
   "metadata": {},
   "source": [
    "**wcss**: Within Cluster Sum of Squares. il s'agit donc de l'Inertie intraclasse"
   ]
  },
  {
   "cell_type": "code",
   "execution_count": null,
   "id": "943ed896",
   "metadata": {},
   "outputs": [],
   "source": [
    "plt.figure(figsize = FIGSIZE)\n",
    "sns.lineplot(x = range(1, 11), y = wcss,marker='o',color='red')\n",
    "plt.title('La méthode du coude')\n",
    "plt.xlabel('Nombre de classe')\n",
    "plt.ylabel('')\n",
    "plt.show()"
   ]
  },
  {
   "cell_type": "markdown",
   "id": "5091d5ac",
   "metadata": {},
   "source": [
    "On choisit 5 classes"
   ]
  },
  {
   "cell_type": "code",
   "execution_count": null,
   "id": "936fce88",
   "metadata": {},
   "outputs": [],
   "source": [
    "# Fitting K-Means to the dataset\n",
    "modele_kmeans = KMeans(n_clusters = 5, init = 'k-means++', random_state = 42)\n",
    "y_kmeans = modele_kmeans.fit_predict(X)"
   ]
  },
  {
   "cell_type": "code",
   "execution_count": null,
   "id": "8bd62e1d",
   "metadata": {},
   "outputs": [],
   "source": [
    "X[\"cluster\"] = y_kmeans\n",
    "centroides = pd.DataFrame(modele_kmeans.cluster_centers_)"
   ]
  },
  {
   "cell_type": "markdown",
   "id": "00c065ca",
   "metadata": {},
   "source": [
    "## Visualisation du résultat "
   ]
  },
  {
   "cell_type": "code",
   "execution_count": null,
   "id": "5a809301",
   "metadata": {},
   "outputs": [],
   "source": [
    "# Visualising the clusters\n",
    "plt.figure(figsize=FIGSIZE)\n",
    "sns.scatterplot(data=X,  x='Annual_Income_(k$)', y='Spending_Score', hue='cluster', palette=\"Paired\", s=50)\n",
    "sns.scatterplot(data=centroides, x=0, y=1, color='red', label='Centroides', s=300, marker=',')\n",
    "plt.title('Clusters of customers')\n",
    "plt.xlabel('Annual Income (k$)')\n",
    "plt.ylabel('Spending Score (1-100)')\n",
    "plt.legend()\n",
    "plt.show()"
   ]
  },
  {
   "cell_type": "markdown",
   "id": "309898d9",
   "metadata": {},
   "source": [
    "## Essayons de comprendre ces classes"
   ]
  },
  {
   "cell_type": "markdown",
   "id": "b13afdf7",
   "metadata": {},
   "source": [
    "Renommons les classes avec ce que nous remarquons:\n",
    "\n",
    "* Classe 0: XXXX0\n",
    "* Classe 1: XXXX1\n",
    "* Classe 2: XXXX2\n",
    "* Classe 3: XXXX3\n",
    "* Classe 4: XXXX4"
   ]
  },
  {
   "cell_type": "code",
   "execution_count": null,
   "id": "9056ab5b",
   "metadata": {},
   "outputs": [],
   "source": [
    "df[\"cluster\"] = y_kmeans\n",
    "df['cluster_label'] = np.where(df['cluster'] == 0, 'XXXX0',\n",
    "                               np.where(df['cluster'] == 1, 'XXXX1',\n",
    "                                        np.where(df['cluster'] == 2, 'XXXX2', \n",
    "                                                 np.where(df['cluster'] == 3, 'XXXX3',\n",
    "                                                         'XXXX4'))))"
   ]
  },
  {
   "cell_type": "code",
   "execution_count": null,
   "id": "46c57d61",
   "metadata": {},
   "outputs": [],
   "source": [
    "df.groupby(\"cluster_label\").agg(\"mean\")"
   ]
  },
  {
   "cell_type": "markdown",
   "id": "16f7c32b",
   "metadata": {},
   "source": [
    "**Conclusion**\n",
    "Il y a des dépensiers dans les revenus extrêmes (revenu élevé et revenu). Les dépensiers semblent être identifiés par leur âge."
   ]
  },
  {
   "cell_type": "markdown",
   "id": "8405bb40",
   "metadata": {},
   "source": [
    "# **FIN DU NOTEBOOK**"
   ]
  }
 ],
 "metadata": {
  "kernelspec": {
   "display_name": "Python 3 (ipykernel)",
   "language": "python",
   "name": "python3"
  },
  "language_info": {
   "codemirror_mode": {
    "name": "ipython",
    "version": 3
   },
   "file_extension": ".py",
   "mimetype": "text/x-python",
   "name": "python",
   "nbconvert_exporter": "python",
   "pygments_lexer": "ipython3",
   "version": "3.8.10"
  }
 },
 "nbformat": 4,
 "nbformat_minor": 5
}
