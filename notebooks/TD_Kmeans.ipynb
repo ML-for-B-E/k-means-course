{
 "cells": [
  {
   "cell_type": "code",
   "execution_count": null,
   "id": "9ed163a6",
   "metadata": {},
   "outputs": [],
   "source": [
    "from pathlib import Path\n",
    "import numpy as np \n",
    "import pandas as pd \n",
    "import os\n",
    "import matplotlib.pyplot as plt\n",
    "import seaborn as sns\n",
    "from sklearn.cluster import KMeans\n",
    "\n",
    "from kmeans.tools.common_path import DATA_PATH"
   ]
  },
  {
   "cell_type": "code",
   "execution_count": null,
   "id": "c8c0a745",
   "metadata": {},
   "outputs": [],
   "source": [
    "FIGSIZE = (15, 5)"
   ]
  },
  {
   "cell_type": "markdown",
   "id": "9a56f9d6",
   "metadata": {},
   "source": [
    "# Collecte de données"
   ]
  },
  {
   "cell_type": "markdown",
   "id": "9b445100",
   "metadata": {},
   "source": [
    "Le TD est basé sur le notebook Kaggle https://www.kaggle.com/code/shrutimechlearn/step-by-step-kmeans-explained-in-detail/notebook"
   ]
  },
  {
   "cell_type": "code",
   "execution_count": null,
   "id": "f6aa0f05",
   "metadata": {},
   "outputs": [],
   "source": [
    "df = pd.read_csv(Path(DATA_PATH, \"Mall_Customers.csv\"),index_col='CustomerID')"
   ]
  },
  {
   "cell_type": "code",
   "execution_count": null,
   "id": "5e412ffc",
   "metadata": {},
   "outputs": [],
   "source": [
    "df.head()"
   ]
  },
  {
   "cell_type": "markdown",
   "id": "8c416b10",
   "metadata": {},
   "source": [
    "## Compréhension des variables"
   ]
  },
  {
   "cell_type": "markdown",
   "id": "6c60130f",
   "metadata": {},
   "source": [
    "La base de donnée provient d'un centre commercial (ou magasin) qui recense ses clients:\n",
    "\n",
    "* CustomerID: ID du client\n",
    "* Genre: Homme (Male) et Femme (Female)\n",
    "* Age: âge du client\n",
    "* Annual_Income_(k$): Revenu annuel en millier de dollars du client\n",
    "* Spending_Score: variable (entre 1-100) synthétisant le comportement du client, plus il dépense fréquemment plus le score sera élevé."
   ]
  },
  {
   "cell_type": "code",
   "execution_count": null,
   "id": "2c9a8c1d",
   "metadata": {},
   "outputs": [],
   "source": [
    "df.describe() # description des variables numériques"
   ]
  },
  {
   "cell_type": "markdown",
   "id": "e936a9ae",
   "metadata": {},
   "source": [
    "# Problème à résoudre "
   ]
  },
  {
   "cell_type": "markdown",
   "id": "b45ee724",
   "metadata": {},
   "source": [
    "Comment varie le score de dépense (Spending_Score) avec le revenu annuel (Annual_Income)?"
   ]
  },
  {
   "cell_type": "code",
   "execution_count": null,
   "id": "4945c1d9",
   "metadata": {},
   "outputs": [],
   "source": [
    "df"
   ]
  },
  {
   "cell_type": "code",
   "execution_count": null,
   "id": "0fe7e247",
   "metadata": {},
   "outputs": [],
   "source": [
    "plt.figure(figsize = FIGSIZE)\n",
    "sns.scatterplot(data = df, x = 'Annual_Income_(k$)', y= 'Spending_Score', hue = 'Genre',s=50)\n",
    "plt.title('Clusters of customers')\n",
    "plt.xlabel('Annual Income (k$)')\n",
    "plt.ylabel('Spending Score (1-100)')\n",
    "plt.show()"
   ]
  },
  {
   "cell_type": "markdown",
   "id": "07086e16",
   "metadata": {},
   "source": [
    "# Implémentation de l'algorithme"
   ]
  },
  {
   "cell_type": "markdown",
   "id": "c4a83019",
   "metadata": {},
   "source": [
    "## Quel devrait être le nombre de cluster?"
   ]
  },
  {
   "cell_type": "code",
   "execution_count": null,
   "id": "e8bee4eb",
   "metadata": {},
   "outputs": [],
   "source": [
    "X = df[['Annual_Income_(k$)','Spending_Score']].copy()"
   ]
  },
  {
   "cell_type": "code",
   "execution_count": null,
   "id": "7926a61d",
   "metadata": {},
   "outputs": [],
   "source": [
    "# Using the elbow method to find the optimal number of clusters\n",
    "from sklearn.cluster import KMeans\n",
    "wcss = []\n",
    "for i in range(1, 11):\n",
    "    modele_kmeans = KMeans(n_clusters = i, init = 'k-means++', random_state = 42)\n",
    "    modele_kmeans.fit(X)\n",
    "    # inertia method returns wcss for that model\n",
    "    wcss.append(modele_kmeans.inertia_)"
   ]
  },
  {
   "cell_type": "markdown",
   "id": "42d1fb01",
   "metadata": {},
   "source": [
    "**wcss**: Within Cluster Sum of Squares. il s'agit donc de l'Inertie intraclasse"
   ]
  },
  {
   "cell_type": "code",
   "execution_count": null,
   "id": "b30c093c",
   "metadata": {},
   "outputs": [],
   "source": [
    "plt.figure(figsize = FIGSIZE)\n",
    "sns.lineplot(x = range(1, 11), y = wcss,marker='o',color='red')\n",
    "plt.title('La méthode du coude')\n",
    "plt.xlabel('Nombre de classe')\n",
    "plt.ylabel('')\n",
    "plt.show()"
   ]
  },
  {
   "cell_type": "markdown",
   "id": "4cbef90a",
   "metadata": {},
   "source": [
    "On choisit 5 classes"
   ]
  },
  {
   "cell_type": "code",
   "execution_count": null,
   "id": "229dc35e",
   "metadata": {},
   "outputs": [],
   "source": [
    "# Fitting K-Means to the dataset\n",
    "modele_kmeans = KMeans(n_clusters = 5, init = 'k-means++', random_state = 42)\n",
    "y_kmeans = modele_kmeans.fit_predict(X)"
   ]
  },
  {
   "cell_type": "code",
   "execution_count": null,
   "id": "b8cfe2e6",
   "metadata": {},
   "outputs": [],
   "source": [
    "X[\"cluster\"] = y_kmeans\n",
    "centroides = pd.DataFrame(modele_kmeans.cluster_centers_)"
   ]
  },
  {
   "cell_type": "markdown",
   "id": "bf4183a1",
   "metadata": {},
   "source": [
    "## Visualisation du résultat "
   ]
  },
  {
   "cell_type": "code",
   "execution_count": null,
   "id": "380a244b",
   "metadata": {},
   "outputs": [],
   "source": [
    "# Visualising the clusters\n",
    "plt.figure(figsize=FIGSIZE)\n",
    "sns.scatterplot(data = X,  x = 'Annual_Income_(k$)', y= 'Spending_Score', hue = 'cluster',palette=\"Paired\",s=50)\n",
    "sns.scatterplot(centroides, x = 0, y = 1, color = 'red', \n",
    "                label = 'Centroides',s=300,marker=',')\n",
    "plt.title('Clusters of customers')\n",
    "plt.xlabel('Annual Income (k$)')\n",
    "plt.ylabel('Spending Score (1-100)')\n",
    "plt.legend()\n",
    "plt.show()"
   ]
  },
  {
   "cell_type": "markdown",
   "id": "aa8d42a9",
   "metadata": {},
   "source": [
    "## Essayons de comprendre ces classes"
   ]
  },
  {
   "cell_type": "markdown",
   "id": "2b072ce5",
   "metadata": {},
   "source": [
    "Renommons les classes avec ce que nous remarquons:\n",
    "\n",
    "* Classe 0: revenu moyen\n",
    "* Classe 1: revenu élevé et économe\n",
    "* Classe 2: revenu faible et économe\n",
    "* Classe 3: revenu faible et dépensier\n",
    "* Classe 4: revenu élevé et dépensier"
   ]
  },
  {
   "cell_type": "code",
   "execution_count": null,
   "id": "5ed96ae6",
   "metadata": {},
   "outputs": [],
   "source": [
    "df[\"cluster\"] = y_kmeans\n",
    "df['cluster_label'] = np.where(df['cluster'] == 0, 'revenu moyen',\n",
    "                               np.where(df['cluster'] == 1, 'revenu élevé et économe',\n",
    "                                        np.where(df['cluster'] == 2, 'revenu faible et économe', \n",
    "                                                 np.where(df['cluster'] == 3, 'revenu faible et dépensier',\n",
    "                                                         'revenu élevé et dépensier'))))"
   ]
  },
  {
   "cell_type": "code",
   "execution_count": null,
   "id": "c137476c",
   "metadata": {},
   "outputs": [],
   "source": [
    "df.groupby(\"cluster_label\").agg(\"mean\")"
   ]
  },
  {
   "cell_type": "markdown",
   "id": "c198c854",
   "metadata": {},
   "source": [
    "**Conclusion**\n",
    "Il y a des dépensiers dans les revenus extrêmes (revenu élevé et revenu). Les dépensiers semblent être identifiés par leur âge."
   ]
  },
  {
   "cell_type": "markdown",
   "id": "64281b35",
   "metadata": {},
   "source": [
    "# **FIN DU NOTEBOOK**"
   ]
  }
 ],
 "metadata": {
  "kernelspec": {
   "display_name": "venv",
   "language": "python",
   "name": "venv"
  },
  "language_info": {
   "codemirror_mode": {
    "name": "ipython",
    "version": 3
   },
   "file_extension": ".py",
   "mimetype": "text/x-python",
   "name": "python",
   "nbconvert_exporter": "python",
   "pygments_lexer": "ipython3",
   "version": "3.9.13"
  }
 },
 "nbformat": 4,
 "nbformat_minor": 5
}
