{
 "cells": [
  {
   "cell_type": "markdown",
   "id": "45f73fb5",
   "metadata": {},
   "source": [
    "# Objectifs\n",
    "\n",
    "* Calculer la dispersion d'un nuage de point: comprendre la différence entre l'inertie interclasse et l'inertie intraclasse\n",
    "* Définir l'algorithme kmeans\n",
    "* Connaître les étapes d'implémentation "
   ]
  },
  {
   "cell_type": "code",
   "execution_count": null,
   "id": "be3cb40b",
   "metadata": {},
   "outputs": [],
   "source": [
    "import matplotlib.pyplot as plt\n",
    "import seaborn as sns\n",
    "import matplotlib.animation as animation\n",
    "import time\n",
    "\n",
    "import numpy as np\n",
    "import pandas as pd\n",
    "\n",
    "from sklearn.cluster import KMeans\n",
    "\n",
    "from kmeans.algorithm import assign_cluster,compute_dispersion\n",
    "from kmeans.distances import euclidian_dist"
   ]
  },
  {
   "cell_type": "code",
   "execution_count": null,
   "id": "bae57d58",
   "metadata": {},
   "outputs": [],
   "source": [
    "FIGSIZE = (10,8)\n",
    "VERBOSE = True\n",
    "%matplotlib inline"
   ]
  },
  {
   "cell_type": "markdown",
   "id": "b194cab4",
   "metadata": {},
   "source": [
    "# Définitions \n",
    "\n",
    "## Objectif de l'algorithme\n",
    "\n",
    "L'algorithme de K-means est une méthode d'apprentissage non-supervisée dont l'objectif est de regrouper les observations qui sont similaires en ayant des groupes qui sont différents entre eux de façon significative.\n",
    "\n",
    "## Similitude\n",
    "\n",
    "La similarité de deux observations est mesurée par la distance qui les sépare. Il existe plusieurs possibilités pour définir une distance, par exemple:\n",
    "\n",
    "* Distance euclidienne: \n",
    "    $$||X - Y||_2 = \\sqrt{\\sum_i(X_i - Y_i)^2}$$\n",
    "    \n",
    "* Distance euclidienne pondérée: \n",
    "    $$||X - Y|| = \\sqrt{ \\sum_i w_i \\times(X_i - Y_i)^2}$$\n",
    "    \n",
    "* Distance de Manhattan:\n",
    "    $$||X - Y|| = \\sum_i|X_i - Y_i|$$\n",
    "\n",
    "Dans le cas de la méthode de K-means que nous allons voir, la distance utilisée est **la distance euclidienne**.\n",
    "\n",
    "La dispersion d'un nuage de point est alors évaluée par la variance:\n",
    "$$ \\frac{1}{n} \\sum_{i=1}^{n} ||X_{i} - \\mu||_2^2 $$\n",
    "\n",
    "avec $\\mu = \\frac{1}{n}\\sum_{i=1}^n X_{i}$ le centre de gravité du nuage.\n",
    "\n",
    "Dans le cas d'un nuage de point constitué de $K$ classes, la dispersion devient:\n",
    "\n",
    "$$ \\underbrace{\\sum_{k=1}^{K} \\left(\\frac{1}{n_k} \\sum_{i=1}^{n_k} ||X_{i}^{(k)} - \\mu_k||_2^2 \\right)}_{inertie~intraclasse} +   \\underbrace{\\sum_{k=1}^{K} \\frac{n_k}{n} ||\\mu_{k} - \\mu||_2^2}_{inertie~interclasse} $$\n",
    "\n",
    "### Notation\n",
    "\n",
    "* $X_i$ l'observation $i$ de dimension P: $X_i = (X_{i1},\\dots,X_{iP})$\n",
    "* $X_{i}^{(k)}$ l'observation $i$ du cluster $k$: $X_{i}^{(k)} = (X_{i1}^{(k)},\\dots,X_{iP}^{(k)})$\n",
    "\n",
    "### Définition\n",
    "\n",
    "* l'inertie intraclasse représente la concentration/homogénéité au sein de chaque classe. Plus elle est faible, plus les éléments des classes sont proches entre elle.\n",
    "\n",
    "* L'inertie interclasse représente la dispersion d'une classe à l'autre.\n",
    "\n",
    "Une classification satisfaisante est un regroupement avec une faible inertie intraclasse et une forte inertie interclasse.\n"
   ]
  },
  {
   "cell_type": "markdown",
   "id": "6571ebfd",
   "metadata": {},
   "source": [
    "# Dispersion"
   ]
  },
  {
   "cell_type": "markdown",
   "id": "30de9c8e",
   "metadata": {},
   "source": [
    "##  d'un nuage de points"
   ]
  },
  {
   "cell_type": "markdown",
   "id": "655584d4",
   "metadata": {},
   "source": [
    "**Question:** Calculez la dispersion du nuage de points ci-dessous:"
   ]
  },
  {
   "cell_type": "code",
   "execution_count": null,
   "id": "392d9ffa",
   "metadata": {},
   "outputs": [],
   "source": [
    "data = np.array(\n",
    "    [\n",
    "        [0.5,-2.5],\n",
    "        [1.5,4],\n",
    "        [1,0]\n",
    "    ]\n",
    ")"
   ]
  },
  {
   "cell_type": "markdown",
   "id": "a9167509",
   "metadata": {},
   "source": [
    "**valeur à trouver:**"
   ]
  },
  {
   "cell_type": "code",
   "execution_count": null,
   "id": "f3cab97e",
   "metadata": {},
   "outputs": [],
   "source": [
    "data=pd.DataFrame(data)\n",
    "cluster = np.array([1,1,1])\n",
    "data[\"cluster\"] = cluster\n",
    "cluster_centroids = data.groupby(cluster).agg(\"mean\").drop(columns = \"cluster\")\n",
    "compute_dispersion(data.drop(columns = \"cluster\"), cluster_centroids)"
   ]
  },
  {
   "cell_type": "code",
   "execution_count": null,
   "id": "8b30f867",
   "metadata": {},
   "outputs": [],
   "source": [
    "cluster_centroids"
   ]
  },
  {
   "cell_type": "markdown",
   "id": "219b04bf",
   "metadata": {},
   "source": [
    "On peut utiliser le code suivant pour un nuage plus compliqué:"
   ]
  },
  {
   "cell_type": "code",
   "execution_count": null,
   "id": "f92c1873",
   "metadata": {},
   "outputs": [],
   "source": [
    "data = np.array(\n",
    "    [[0.5,1.3],\n",
    "     [0.75,3],\n",
    "     [1,2],\n",
    "     [0.5,2.25],\n",
    "     [2,1],\n",
    "     [1.75,1.5],\n",
    "     [1.6,2.75]]\n",
    ")\n",
    "\n",
    "mu_1 = np.mean(data[:,0])\n",
    "mu_2 = np.mean(data[:,1])\n",
    "\n",
    "mu = np.array([mu_1,mu_2])\n",
    "if VERBOSE:\n",
    "    plt.scatter(x = data[:,0],\n",
    "            y = data[:,1],\n",
    "            color = \"red\")\n",
    "\n",
    "    plt.scatter(mu[0],mu[1])\n",
    "    plt.show()"
   ]
  },
  {
   "cell_type": "code",
   "execution_count": null,
   "id": "1b11072d",
   "metadata": {},
   "outputs": [],
   "source": [
    "distance_to_mean = np.sqrt(np.sum((data - mu)**2,axis=1))\n",
    "dispersion = np.mean(distance_to_mean**2)\n",
    "\n",
    "if VERBOSE:\n",
    "    print(dispersion)"
   ]
  },
  {
   "cell_type": "markdown",
   "id": "cfe97903",
   "metadata": {},
   "source": [
    "## de deux clusters de points"
   ]
  },
  {
   "cell_type": "code",
   "execution_count": null,
   "id": "d6649c7c",
   "metadata": {},
   "outputs": [],
   "source": [
    "clusters = np.array([1,0,1,1,1,1,0])\n",
    "data = pd.DataFrame(data)\n",
    "data[\"cluster\"] = clusters\n",
    "cluster_centroids = data.groupby(\"cluster\").agg(\"mean\")"
   ]
  },
  {
   "cell_type": "code",
   "execution_count": null,
   "id": "8c3aa011",
   "metadata": {},
   "outputs": [],
   "source": [
    "cluster_centroids"
   ]
  },
  {
   "cell_type": "code",
   "execution_count": null,
   "id": "da91f88c",
   "metadata": {},
   "outputs": [],
   "source": [
    "data"
   ]
  },
  {
   "cell_type": "code",
   "execution_count": null,
   "id": "090db7ef",
   "metadata": {},
   "outputs": [],
   "source": [
    "dispersion_clusters = compute_dispersion(data.drop(columns = \"cluster\"), cluster_centroids)\n",
    "if VERBOSE:\n",
    "    print(dispersion_clusters)"
   ]
  },
  {
   "cell_type": "markdown",
   "id": "1a20b576",
   "metadata": {},
   "source": [
    "Idées de TD: \n",
    "* Prouver que la somme des inerties intra clusters est toujours inférieure à l'inertie totale\n",
    "* Prouver que le point qui minimise la somme des distances au carré aux points du nuage est la moyenne $\\mu$. C'est grâce à ce résultat que la moyenne sert de \"représentant\" de cluster "
   ]
  },
  {
   "cell_type": "markdown",
   "id": "9dc3dd09",
   "metadata": {},
   "source": [
    "# Problème à résoudre\n",
    "\n",
    "On a N observations avec P caractéristiques. Mais le nombre d'observations est trop élevé pour bien comprendre le comportement des individus. Nous allons donc réduire le nombre d'observations de N à n (n<<N).\n",
    "\n",
    "*Donner la relation entre variance inter cluster et intra cluster*"
   ]
  },
  {
   "cell_type": "markdown",
   "id": "aa5c4d59",
   "metadata": {},
   "source": [
    "# Implémentation"
   ]
  },
  {
   "cell_type": "markdown",
   "id": "2556b8e0",
   "metadata": {},
   "source": [
    "Dans cette section, nous allons voir dans le détail comment l'algorithme du kmeans est implémenté\n",
    "\n",
    "Si on suppose K clusters,\n",
    "1. choisir K observations parmi les observations pour servir de centroïdes initiaux\n",
    "2. affecter chaque observation au centroïde dont elle est le plus proche\n",
    "3. recalculer les centroïdes de chaque cluster\n",
    "4. répéter les opérations 2 et 3 jusqu'à convergence"
   ]
  },
  {
   "cell_type": "code",
   "execution_count": null,
   "id": "e2034a6c",
   "metadata": {},
   "outputs": [],
   "source": [
    "BUCKET_SIZE = 40\n",
    "NUMBER_BUCKET = 3"
   ]
  },
  {
   "cell_type": "code",
   "execution_count": null,
   "id": "67ec1b1b",
   "metadata": {},
   "outputs": [],
   "source": [
    "X = np.concatenate(\n",
    "    (\n",
    "        np.random.normal(0,4,BUCKET_SIZE) ,\n",
    "        np.random.normal(-7.5,3,BUCKET_SIZE),\n",
    "        np.random.normal(3,3,BUCKET_SIZE)\n",
    "    ),\n",
    "    axis = None\n",
    ")\n",
    "\n",
    "Y = np.concatenate(\n",
    "    (\n",
    "        np.random.normal(2,1.5,BUCKET_SIZE), \n",
    "        np.random.normal(-5,1.5,BUCKET_SIZE),\n",
    "        np.random.normal(-5,3,BUCKET_SIZE)\n",
    "    ), \n",
    "    axis = None\n",
    ")\n",
    "\n",
    "true_label = np.repeat(\n",
    "    [0,1,2],\n",
    "    [BUCKET_SIZE] * 3\n",
    ")\n",
    "\n",
    "dataset = pd.DataFrame(\n",
    "    {\n",
    "        \"X\" : X,\n",
    "        \"Y\" : Y\n",
    "    }\n",
    ")"
   ]
  },
  {
   "cell_type": "code",
   "execution_count": null,
   "id": "c2ca7ba1",
   "metadata": {},
   "outputs": [],
   "source": [
    "if VERBOSE:\n",
    "    plt.figure(figsize=FIGSIZE)\n",
    "    plt.scatter(X,Y,c=true_label)\n",
    "    plt.show()"
   ]
  },
  {
   "cell_type": "code",
   "execution_count": null,
   "id": "434536ba",
   "metadata": {},
   "outputs": [],
   "source": [
    "chosen_index = np.random.randint(NUMBER_BUCKET * BUCKET_SIZE, size=NUMBER_BUCKET)\n",
    "centroides = dataset.iloc[chosen_index]\n",
    "iteration = 0\n",
    "\n",
    "while iteration < 10:\n",
    "    cluster,errors = assign_cluster(dataset, centroides)\n",
    "    dataset[\"cluster\"] = cluster\n",
    "    centroides = dataset.groupby('cluster').agg('mean').loc[:,['X','Y']]\n",
    "    print(centroides)\n",
    "    iteration += 1"
   ]
  },
  {
   "cell_type": "code",
   "execution_count": null,
   "id": "f7906486-c0eb-4143-91a6-27c186dcfe4c",
   "metadata": {},
   "outputs": [],
   "source": [
    "%matplotlib notebook\n",
    "%matplotlib notebook"
   ]
  },
  {
   "cell_type": "code",
   "execution_count": null,
   "id": "93008eb1-d98e-4499-885d-d1188928e88d",
   "metadata": {},
   "outputs": [],
   "source": [
    "chosen_index = np.random.randint(NUMBER_BUCKET * BUCKET_SIZE, size=NUMBER_BUCKET)\n",
    "centroides = dataset.iloc[chosen_index]\n",
    "\n",
    "cluster,errors = assign_cluster(dataset, centroides)\n",
    "dataset[\"cluster\"] = cluster\n",
    "\n",
    "colors = sns.color_palette()\n",
    "fig = plt.figure(figsize=(10, 8))\n",
    "ax = plt.axes()\n",
    "\n",
    "\n",
    "def init():\n",
    "    return [fig]\n",
    "\n",
    "\n",
    "def animate(i):\n",
    "    global centroides\n",
    "    global dataset\n",
    "    centroides = dataset.groupby('cluster').agg('mean').loc[:,['X','Y']]\n",
    "    cluster,errors = assign_cluster(dataset, centroides)\n",
    "    dataset[\"cluster\"] = cluster\n",
    "    ax.cla()\n",
    "    ax.scatter(dataset.X, dataset.Y,c=dataset.cluster)\n",
    "    ax.scatter(centroides.X,centroides.Y,c=\"red\")\n",
    "    ax.set_xticklabels(\"\")\n",
    "    ax.set_yticklabels(\"\")\n",
    "    time.sleep(0.5)\n",
    "    return [fig]\n",
    "\n",
    "\n",
    "ani = animation.FuncAnimation(\n",
    "    fig, animate, init_func=init, frames=40, interval=200, blit=True\n",
    ")\n",
    "plt.show()"
   ]
  },
  {
   "cell_type": "markdown",
   "id": "a2e71dc6",
   "metadata": {},
   "source": [
    "# Discussion"
   ]
  },
  {
   "cell_type": "markdown",
   "id": "b8a73fab",
   "metadata": {},
   "source": [
    "1. Quelles devraient être les conditions d'arrêt de l'algorithme?"
   ]
  },
  {
   "cell_type": "markdown",
   "id": "2ca97782",
   "metadata": {},
   "source": [
    "# **FIN DU NOTEBOOK**"
   ]
  }
 ],
 "metadata": {
  "kernelspec": {
   "display_name": "venv",
   "language": "python",
   "name": "venv"
  },
  "language_info": {
   "codemirror_mode": {
    "name": "ipython",
    "version": 3
   },
   "file_extension": ".py",
   "mimetype": "text/x-python",
   "name": "python",
   "nbconvert_exporter": "python",
   "pygments_lexer": "ipython3",
   "version": "3.9.13"
  }
 },
 "nbformat": 4,
 "nbformat_minor": 5
}
